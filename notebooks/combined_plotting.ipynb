{
 "cells": [
  {
   "cell_type": "markdown",
   "id": "c8c5d293",
   "metadata": {},
   "source": [
    "# Combined Training and Evaluation Plots\n",
    "\n",
    "This notebook shows how to create a combined plot with the training loss and evaluation win rate on the same figure."
   ]
  },
  {
   "cell_type": "code",
   "execution_count": null,
   "id": "2d1de77e",
   "metadata": {},
   "outputs": [],
   "source": [
    "%matplotlib inline\n",
    "import matplotlib.pyplot as plt\n",
    "import numpy as np\n",
    "\n",
    "# Sample data (replace with your actual data)\n",
    "loss_history = np.random.exponential(1, 50) * 2  # Random example, decreases over time\n",
    "loss_history = np.clip(loss_history, 0.1, 2.0)\n",
    "loss_history = loss_history[::-1]  # Reverse to simulate decreasing loss\n",
    "\n",
    "eval_intervals = np.arange(5, 51, 5)  # Every 5th iteration\n",
    "winrate_history = np.clip(0.2 + 0.6 * np.random.random(len(eval_intervals)), 0.2, 0.8)  # Random increasing win rates\n",
    "winrate_history.sort()  # Make win rate generally increase\n",
    "\n",
    "# Create a figure with two y-axes\n",
    "fig, ax1 = plt.subplots(figsize=(10, 6))\n",
    "\n",
    "# Plot loss on left y-axis\n",
    "ax1.set_xlabel('Iteration')\n",
    "ax1.set_ylabel('Training Loss', color='blue')\n",
    "ax1.plot(range(1, len(loss_history)+1), loss_history, 'bo-', label='Training Loss')\n",
    "ax1.tick_params(axis='y', labelcolor='blue')\n",
    "\n",
    "# Create a second y-axis for win rate\n",
    "ax2 = ax1.twinx()  \n",
    "ax2.set_ylabel('Win Rate (%)', color='red')\n",
    "ax2.plot(eval_intervals, winrate_history * 100, 'ro-', label='Win Rate')\n",
    "ax2.tick_params(axis='y', labelcolor='red')\n",
    "ax2.set_ylim(0, 100)  # 0-100%\n",
    "\n",
    "# Add a title\n",
    "plt.title('Training Progress: Loss and Win Rate')\n",
    "\n",
    "# Add a legend\n",
    "lines1, labels1 = ax1.get_legend_handles_labels()\n",
    "lines2, labels2 = ax2.get_legend_handles_labels()\n",
    "ax1.legend(lines1 + lines2, labels1 + labels2, loc='best')\n",
    "\n",
    "plt.tight_layout()\n",
    "plt.show()"
   ]
  },
  {
   "cell_type": "markdown",
   "id": "e7a3ce47",
   "metadata": {},
   "source": [
    "## Updating Our Training Loop to Use This Combined Plot\n",
    "\n",
    "Now let's modify our training loop to use this combined plotting approach instead of separate plots."
   ]
  },
  {
   "cell_type": "code",
   "execution_count": null,
   "id": "f7a2a19e",
   "metadata": {},
   "outputs": [],
   "source": [
    "from IPython.display import clear_output\n",
    "\n",
    "def plot_training_progress(loss_history, winrate_history, eval_iterations):\n",
    "    \"\"\"Plot training loss and evaluation win rate on the same figure.\"\"\"\n",
    "    fig, ax1 = plt.subplots(figsize=(10, 6))\n",
    "    \n",
    "    # Plot loss on left y-axis (blue)\n",
    "    ax1.set_xlabel('Iteration')\n",
    "    ax1.set_ylabel('Training Loss', color='blue')\n",
    "    ax1.plot(range(1, len(loss_history)+1), loss_history, 'bo-', label='Training Loss')\n",
    "    ax1.tick_params(axis='y', labelcolor='blue')\n",
    "    \n",
    "    # Create a second y-axis for win rate (red)\n",
    "    ax2 = ax1.twinx()  \n",
    "    ax2.set_ylabel('Win Rate (%)', color='red')\n",
    "    if winrate_history:  # Only plot if we have data\n",
    "        ax2.plot(eval_iterations, [w*100 for w in winrate_history], 'ro-', label='Win Rate')\n",
    "    ax2.tick_params(axis='y', labelcolor='red')\n",
    "    ax2.set_ylim(0, 100)  # 0-100%\n",
    "    \n",
    "    # Add a title\n",
    "    plt.title('AlphaZero Durak Training Progress')\n",
    "    \n",
    "    # Add a legend\n",
    "    lines1, labels1 = ax1.get_legend_handles_labels()\n",
    "    lines2, labels2 = ax2.get_legend_handles_labels()\n",
    "    ax1.legend(lines1 + lines2, labels1 + labels2, loc='best')\n",
    "    \n",
    "    plt.tight_layout()\n",
    "    plt.show()\n",
    "\n",
    "# Example usage in training loop:\n",
    "# for it in range(num_iterations):\n",
    "#     # Training code here...\n",
    "#     \n",
    "#     # Plot progress\n",
    "#     clear_output(wait=True)\n",
    "#     plot_training_progress(loss_history, winrate_history, eval_iterations)\n",
    "#     # Rest of loop..."
   ]
  },
  {
   "cell_type": "markdown",
   "id": "d8a3ce47",
   "metadata": {},
   "source": [
    "## Modified Training Loop Code\n",
    "\n",
    "Here's how to replace the plotting code in the `training.ipynb` file:"
   ]
  },
  {
   "cell_type": "code",
   "execution_count": null,
   "id": "e8a2a19e",
   "metadata": {},
   "outputs": [],
   "source": [
    "# Replace the original plotting section with this:\n",
    "# 4) Live plot with combined loss and win rate on same figure\n",
    "clear_output(wait=True)\n",
    "fig, ax1 = plt.subplots(figsize=(10, 6))\n",
    "\n",
    "# Plot loss on left y-axis\n",
    "ax1.set_xlabel('Iteration')\n",
    "ax1.set_ylabel('Training Loss', color='blue')\n",
    "ax1.plot(range(1, len(loss_history)+1), loss_history, 'bo-', label='Loss')\n",
    "ax1.tick_params(axis='y', labelcolor='blue')\n",
    "\n",
    "# Create a second y-axis for win rate\n",
    "ax2 = ax1.twinx()  \n",
    "ax2.set_ylabel('Win Percentage', color='red')\n",
    "if winrate_history:  # Only plot if we have data\n",
    "    ax2.plot(eval_iterations, [w*100 for w in winrate_history], 'ro-', label='Win %')\n",
    "ax2.tick_params(axis='y', labelcolor='red')\n",
    "ax2.set_ylim(0, 100)  # 0-100%\n",
    "\n",
    "# Add a title\n",
    "plt.title('AlphaZero Durak Training Progress')\n",
    "\n",
    "# Add a legend\n",
    "lines1, labels1 = ax1.get_legend_handles_labels()\n",
    "lines2, labels2 = ax2.get_legend_handles_labels()\n",
    "ax1.legend(lines1 + lines2, labels1 + labels2, loc='best')\n",
    "\n",
    "plt.tight_layout()\n",
    "plt.show()"
   ]
  }
 ],
 "metadata": {
  "kernelspec": {
   "display_name": "Python 3 (ipykernel)",
   "language": "python",
   "name": "python3"
  },
  "language_info": {
   "codemirror_mode": {
    "name": "ipython",
    "version": 3
   },
   "file_extension": ".py",
   "mimetype": "text/x-python",
   "name": "python",
   "nbconvert_exporter": "python",
   "pygments_lexer": "ipython3",
   "version": "3.10.16"
  }
 },
 "nbformat": 4,
 "nbformat_minor": 5
}
